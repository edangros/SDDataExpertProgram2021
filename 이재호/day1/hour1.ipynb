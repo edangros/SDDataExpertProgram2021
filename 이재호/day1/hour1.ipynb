{
 "metadata": {
  "language_info": {
   "codemirror_mode": {
    "name": "ipython",
    "version": 3
   },
   "file_extension": ".py",
   "mimetype": "text/x-python",
   "name": "python",
   "nbconvert_exporter": "python",
   "pygments_lexer": "ipython3",
   "version": "3.8.5-final"
  },
  "orig_nbformat": 2,
  "kernelspec": {
   "name": "python3",
   "display_name": "Python 3"
  }
 },
 "nbformat": 4,
 "nbformat_minor": 2,
 "cells": [
  {
   "source": [
    "'''\n",
    "Guess the Number\n",
    "'''\n",
    "import random\n",
    "\n",
    "'''==========================\n",
    "======initialization=========\n",
    "=========================='''\n",
    "hidden_no   :int\n",
    "hidden_no = random.randint(0,20) #rand number will be random integer in 0 - 20\n",
    "print(\"hidden number generated\")\n",
    "\n",
    "input_no    :int\n",
    "input_no = -25 #-25 will never be generated in random\n",
    "\n",
    "count   :int\n",
    "count = 0\n",
    "\n",
    "'''=========================\n",
    "=========Main Loop==========\n",
    "========================='''\n",
    "while (input_no != hidden_no): #do loop while wrong\n",
    "    try: #use error catcher cuz cannot certain the input value is a number \n",
    "        count += 1\n",
    "        input_no = int(input(\"input the number and press Enter:\"))\n",
    "    except ValueError: #if the input number is not number, ValueError will be thrown\n",
    "        print(\"write the number!\")#print error message and do nothing\n",
    "    else:\n",
    "        #compare input with number and print the result\n",
    "        if(input_no>hidden_no):\n",
    "            print(\"too high! \", end=\"\")\n",
    "        elif(input_no<hidden_no):\n",
    "            print(\"too low! \", end=\"\")\n",
    "\n",
    "'''========================\n",
    "=======Print Result========\n",
    "========================'''\n",
    "#if loop is ended, print the success message\n",
    "print(\"success (count : \"+str(count)+\")\")"
   ],
   "cell_type": "code",
   "metadata": {},
   "execution_count": 5,
   "outputs": [
    {
     "output_type": "stream",
     "name": "stdout",
     "text": [
      "hidden number generated\n",
      "too high!\n",
      "too high!\n",
      "too high!\n",
      "too high!\n",
      "too high!\n",
      "too high!\n",
      "too high!\n",
      "too high!\n",
      "success (count : 9)\n"
     ]
    }
   ]
  }
 ]
}