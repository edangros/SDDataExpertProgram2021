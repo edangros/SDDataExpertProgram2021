{
 "metadata": {
  "language_info": {
   "codemirror_mode": {
    "name": "ipython",
    "version": 3
   },
   "file_extension": ".py",
   "mimetype": "text/x-python",
   "name": "python",
   "nbconvert_exporter": "python",
   "pygments_lexer": "ipython3",
   "version": "3.8.5-final"
  },
  "orig_nbformat": 2,
  "kernelspec": {
   "name": "python3",
   "display_name": "Python 3"
  }
 },
 "nbformat": 4,
 "nbformat_minor": 2,
 "cells": [
  {
   "cell_type": "code",
   "execution_count": null,
   "metadata": {},
   "outputs": [],
   "source": [
    "#prob.9\n",
    "n   :int = 0\n",
    "while True:\n",
    "    try:\n",
    "        n = int(input(\"type the number:\"))\n",
    "    except ValueError:\n",
    "        continue\n",
    "    if (n>0) and (n<=10):\n",
    "        break\n",
    "\n",
    "i=0\n",
    "while (i < n):\n",
    "    i=i+1\n",
    "    if(n%i==0):\n",
    "        print('*'*i)"
   ]
  },
  {
   "cell_type": "code",
   "execution_count": null,
   "metadata": {},
   "outputs": [],
   "source": [
    "#prob.9\n",
    "\n",
    "try:\n",
    "    n = int(input(\"type the number:\"))\n",
    "except ValueError:\n",
    "    exit\n",
    "\n",
    "i=0\n",
    "while (i < n):\n",
    "    i=i+1\n",
    "    if(n%i==0):\n",
    "        print('*'*i)"
   ]
  },
  {
   "cell_type": "code",
   "execution_count": null,
   "metadata": {},
   "outputs": [],
   "source": []
  }
 ]
}